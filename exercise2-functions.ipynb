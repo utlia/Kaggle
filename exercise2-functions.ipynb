{
 "cells": [
  {
   "cell_type": "markdown",
   "id": "d36690e4",
   "metadata": {
    "papermill": {
     "duration": 0.005462,
     "end_time": "2024-10-25T17:39:30.409396",
     "exception": false,
     "start_time": "2024-10-25T17:39:30.403934",
     "status": "completed"
    },
    "tags": []
   },
   "source": [
    "**This notebook is an exercise in the [Intro to Programming](https://www.kaggle.com/learn/intro-to-programming) course.  You can reference the tutorial at [this link](https://www.kaggle.com/alexisbcook/functions).**\n",
    "\n",
    "---\n"
   ]
  },
  {
   "cell_type": "markdown",
   "id": "ca9dd9b4",
   "metadata": {
    "papermill": {
     "duration": 0.004559,
     "end_time": "2024-10-25T17:39:30.418895",
     "exception": false,
     "start_time": "2024-10-25T17:39:30.414336",
     "status": "completed"
    },
    "tags": []
   },
   "source": [
    "In the tutorial, you learned about functions. In this exercise, you'll write some of your own!\n",
    "\n",
    "# Set up the notebook\n",
    "\n",
    "Run the next code cell without changes to set up the notebook."
   ]
  },
  {
   "cell_type": "code",
   "execution_count": 1,
   "id": "2d4a541c",
   "metadata": {
    "execution": {
     "iopub.execute_input": "2024-10-25T17:39:30.430073Z",
     "iopub.status.busy": "2024-10-25T17:39:30.429645Z",
     "iopub.status.idle": "2024-10-25T17:39:31.412540Z",
     "shell.execute_reply": "2024-10-25T17:39:31.411366Z"
    },
    "papermill": {
     "duration": 0.992204,
     "end_time": "2024-10-25T17:39:31.415774",
     "exception": false,
     "start_time": "2024-10-25T17:39:30.423570",
     "status": "completed"
    },
    "tags": []
   },
   "outputs": [
    {
     "name": "stdout",
     "output_type": "stream",
     "text": [
      "Setup complete.\n"
     ]
    }
   ],
   "source": [
    "# Set up the exercise\n",
    "import math\n",
    "from learntools.core import binder\n",
    "binder.bind(globals())\n",
    "from learntools.intro_to_programming.ex2 import *\n",
    "print('Setup complete.')"
   ]
  },
  {
   "cell_type": "markdown",
   "id": "70f3707d",
   "metadata": {
    "papermill": {
     "duration": 0.004661,
     "end_time": "2024-10-25T17:39:31.425550",
     "exception": false,
     "start_time": "2024-10-25T17:39:31.420889",
     "status": "completed"
    },
    "tags": []
   },
   "source": [
    "# Question 1\n",
    "\n",
    "In the [House Prices - Advanced Regression Techniques competition](https://www.kaggle.com/c/house-prices-advanced-regression-techniques/overview), you need to use information like the number of bedrooms and bathrooms to predict the price of a house.  Inspired by this competition, you'll write your own function to do this.\n",
    "\n",
    "In the next code cell, create a function `get_expected_cost()` that has two arguments:\n",
    "- `beds` - number of bedrooms \n",
    "- `baths` - number of bathrooms\n",
    "\n",
    "It should return the expected cost of a house with that number of bedrooms and bathrooms.  Assume that:\n",
    "- the expected cost for a house with 0 bedrooms and 0 bathrooms is `80000`.  \n",
    "- each bedroom adds `30000` to the expected cost\n",
    "- each bathroom adds `10000` to the expected cost.\n",
    "\n",
    "For instance, \n",
    "- a house with 1 bedroom and 1 bathroom has an expected cost of `120000`, and \n",
    "- a house with 2 bedrooms and 1 bathroom has an expected cost of `150000`."
   ]
  },
  {
   "cell_type": "code",
   "execution_count": 2,
   "id": "cda3e9b1",
   "metadata": {
    "execution": {
     "iopub.execute_input": "2024-10-25T17:39:31.437691Z",
     "iopub.status.busy": "2024-10-25T17:39:31.437101Z",
     "iopub.status.idle": "2024-10-25T17:39:31.442596Z",
     "shell.execute_reply": "2024-10-25T17:39:31.441457Z"
    },
    "papermill": {
     "duration": 0.014062,
     "end_time": "2024-10-25T17:39:31.444985",
     "exception": false,
     "start_time": "2024-10-25T17:39:31.430923",
     "status": "completed"
    },
    "tags": []
   },
   "outputs": [],
   "source": [
    "# TODO: Complete the function\n",
    "def get_expected_cost(beds, baths):\n",
    "    value = 80000 + 30000 * beds + 10000 * baths\n",
    "    return value\n",
    "\n",
    "\n",
    "# Check your answer \n",
    "#q1.check()\n",
    "#q1.solution()"
   ]
  },
  {
   "cell_type": "markdown",
   "id": "aefa874a",
   "metadata": {
    "papermill": {
     "duration": 0.004746,
     "end_time": "2024-10-25T17:39:31.454768",
     "exception": false,
     "start_time": "2024-10-25T17:39:31.450022",
     "status": "completed"
    },
    "tags": []
   },
   "source": [
    "# Question 2\n",
    "\n",
    "You are thinking about buying a home and want to get an idea of how much you will spend, based on the number of bedrooms and bathrooms.  You are trying to decide between four different options:\n",
    "- Option 1: house with two bedrooms and three bathrooms\n",
    "- Option 2: house with three bedrooms and two bathrooms\n",
    "- Option 3: house with three bedrooms and three bathrooms\n",
    "- Option 4: house with three bedrooms and four bathrooms\n",
    "\n",
    "Use the `get_expected_cost()` function you defined in question 1 to set `option_1`, `option_2`, `option_3`, and `option_4` to the expected cost of each option."
   ]
  },
  {
   "cell_type": "code",
   "execution_count": 3,
   "id": "c77586a9",
   "metadata": {
    "execution": {
     "iopub.execute_input": "2024-10-25T17:39:31.466271Z",
     "iopub.status.busy": "2024-10-25T17:39:31.465872Z",
     "iopub.status.idle": "2024-10-25T17:39:31.472836Z",
     "shell.execute_reply": "2024-10-25T17:39:31.471813Z"
    },
    "papermill": {
     "duration": 0.015555,
     "end_time": "2024-10-25T17:39:31.475225",
     "exception": false,
     "start_time": "2024-10-25T17:39:31.459670",
     "status": "completed"
    },
    "tags": []
   },
   "outputs": [
    {
     "name": "stdout",
     "output_type": "stream",
     "text": [
      "170000\n",
      "190000\n",
      "200000\n",
      "210000\n"
     ]
    }
   ],
   "source": [
    "# TODO: Use the get_expected_cost function to fill in each value\n",
    "option_one = get_expected_cost (2,3)\n",
    "option_two = get_expected_cost (3,2)\n",
    "option_three = get_expected_cost(3,3)\n",
    "option_four = get_expected_cost(3,4)\n",
    "\n",
    "print(option_one)\n",
    "print(option_two)\n",
    "print(option_three)\n",
    "print(option_four)\n",
    "\n",
    "# Check your answer\n",
    "#q2.check()\n",
    "#q2.solution()"
   ]
  },
  {
   "cell_type": "markdown",
   "id": "3b744b8a",
   "metadata": {
    "papermill": {
     "duration": 0.00467,
     "end_time": "2024-10-25T17:39:31.485867",
     "exception": false,
     "start_time": "2024-10-25T17:39:31.481197",
     "status": "completed"
    },
    "tags": []
   },
   "source": [
    "# Question 3\n",
    "\n",
    "You're a home decorator, and you'd like to use Python to streamline some of your work.  Specifically, you're creating a tool that you intend to use to calculate the cost of painting a room.\n",
    "\n",
    "As a first step, define a function `get_cost()` that takes as input:\n",
    "- `sqft_walls` = total square feet of walls to be painted\n",
    "- `sqft_ceiling` = square feet of ceiling to be painted\n",
    "- `sqft_per_gallon` = number of square feet that you can cover with one gallon of paint\n",
    "- `cost_per_gallon` = cost (in dollars) of one gallon of paint\n",
    "\n",
    "It should return the cost (in dollars) of putting one coat of paint on all walls and the ceiling.  Assume you can buy the exact amount of paint that you need, so you can buy partial gallons (e.g., if you need 7.523 gallons, you can buy that exact amount, instead of needing to buy 8 gallons and waste some paint).  Do not round your answer."
   ]
  },
  {
   "cell_type": "code",
   "execution_count": 4,
   "id": "4215292d",
   "metadata": {
    "execution": {
     "iopub.execute_input": "2024-10-25T17:39:31.497719Z",
     "iopub.status.busy": "2024-10-25T17:39:31.497161Z",
     "iopub.status.idle": "2024-10-25T17:39:31.508878Z",
     "shell.execute_reply": "2024-10-25T17:39:31.507765Z"
    },
    "papermill": {
     "duration": 0.020427,
     "end_time": "2024-10-25T17:39:31.511199",
     "exception": false,
     "start_time": "2024-10-25T17:39:31.490772",
     "status": "completed"
    },
    "tags": []
   },
   "outputs": [
    {
     "data": {
      "application/javascript": [
       "parent.postMessage({\"jupyterEvent\": \"custom.exercise_interaction\", \"data\": {\"outcomeType\": 1, \"valueTowardsCompletion\": 0.2, \"interactionType\": 1, \"questionType\": 2, \"questionId\": \"3_GetCostPaint\", \"learnToolsVersion\": \"0.3.4\", \"failureMessage\": \"\", \"exceptionClass\": \"\", \"trace\": \"\"}}, \"*\")"
      ],
      "text/plain": [
       "<IPython.core.display.Javascript object>"
      ]
     },
     "metadata": {},
     "output_type": "display_data"
    },
    {
     "data": {
      "text/markdown": [
       "<span style=\"color:#33cc33\">Correct</span>"
      ],
      "text/plain": [
       "Correct"
      ]
     },
     "metadata": {},
     "output_type": "display_data"
    }
   ],
   "source": [
    "# TODO: Finish defining the function\n",
    "def get_cost(sqft_walls, sqft_ceiling, sqft_per_gallon, cost_per_gallon):\n",
    "    tot_sqft = sqft_walls + sqft_ceiling\n",
    "    gallons_needed = tot_sqft / sqft_per_gallon\n",
    "    cost = cost_per_gallon * gallons_needed\n",
    "    return cost\n",
    "\n",
    "# Check your answer\n",
    "q3.check()"
   ]
  },
  {
   "cell_type": "markdown",
   "id": "5f1f4a2d",
   "metadata": {
    "papermill": {
     "duration": 0.00492,
     "end_time": "2024-10-25T17:39:31.521749",
     "exception": false,
     "start_time": "2024-10-25T17:39:31.516829",
     "status": "completed"
    },
    "tags": []
   },
   "source": [
    "# Question 4\n",
    "\n",
    "Use the `get_cost()` function you defined in Question 3 to calculate the cost of applying one coat of paint to a room with:\n",
    "- 432 square feet of walls, and\n",
    "- 144 square feet of ceiling.\n",
    "\n",
    "Assume that one gallon of paint covers 400 square feet and costs $15.  As in Question 3, assume you can buy partial gallons of paint.  Do not round your answer."
   ]
  },
  {
   "cell_type": "code",
   "execution_count": 5,
   "id": "ecc25497",
   "metadata": {
    "execution": {
     "iopub.execute_input": "2024-10-25T17:39:31.534089Z",
     "iopub.status.busy": "2024-10-25T17:39:31.533699Z",
     "iopub.status.idle": "2024-10-25T17:39:31.543787Z",
     "shell.execute_reply": "2024-10-25T17:39:31.542466Z"
    },
    "papermill": {
     "duration": 0.018585,
     "end_time": "2024-10-25T17:39:31.545708",
     "exception": false,
     "start_time": "2024-10-25T17:39:31.527123",
     "status": "completed"
    },
    "tags": []
   },
   "outputs": [
    {
     "data": {
      "application/javascript": [
       "parent.postMessage({\"jupyterEvent\": \"custom.exercise_interaction\", \"data\": {\"outcomeType\": 1, \"valueTowardsCompletion\": 0.2, \"interactionType\": 1, \"questionType\": 1, \"questionId\": \"4_GetCostPaintExample\", \"learnToolsVersion\": \"0.3.4\", \"failureMessage\": \"\", \"exceptionClass\": \"\", \"trace\": \"\"}}, \"*\")"
      ],
      "text/plain": [
       "<IPython.core.display.Javascript object>"
      ]
     },
     "metadata": {},
     "output_type": "display_data"
    },
    {
     "data": {
      "text/markdown": [
       "<span style=\"color:#33cc33\">Correct</span>"
      ],
      "text/plain": [
       "Correct"
      ]
     },
     "metadata": {},
     "output_type": "display_data"
    },
    {
     "name": "stdout",
     "output_type": "stream",
     "text": [
      "The cost of painting the room is: $21.60\n"
     ]
    }
   ],
   "source": [
    "# TODO: Set the project_cost variable to the cost of the project\n",
    "sqft_walls = 432\n",
    "sqft_ceiling = 144\n",
    "sqft_per_gallon = 400\n",
    "cost_per_gallon = 15\n",
    "\n",
    "project_cost = get_cost(sqft_walls, sqft_ceiling, sqft_per_gallon, cost_per_gallon)\n",
    "\n",
    "# Check your answer\n",
    "q4.check()\n",
    "print((f\"The cost of painting the room is: ${project_cost:.2f}\"))"
   ]
  },
  {
   "cell_type": "markdown",
   "id": "bb9007b6",
   "metadata": {
    "papermill": {
     "duration": 0.005238,
     "end_time": "2024-10-25T17:39:31.556317",
     "exception": false,
     "start_time": "2024-10-25T17:39:31.551079",
     "status": "completed"
    },
    "tags": []
   },
   "source": [
    "# 🌶️ Question 5\n",
    "\n",
    "Now say you can no longer buy fractions of a gallon.  (For instance, if you need 4.3 gallons to do a project, then you have to buy 5 gallons of paint.)\n",
    "\n",
    "With this new scenario, you will create a new function `get_actual_cost` that uses the same inputs and calculates the cost of your project.\n",
    "\n",
    "One function that you'll need to use to do this is `math.ceil()`.  We demonstrate usage of this function in the code cell below.  It takes as a number as input and rounds the number up to the nearest integer.  \n",
    "\n",
    "Run the next code cell to test this function for yourself.  Feel free to change the value of `test_value` and make sure `math.ceil()` returns the number you expect."
   ]
  },
  {
   "cell_type": "code",
   "execution_count": 6,
   "id": "be9350ed",
   "metadata": {
    "execution": {
     "iopub.execute_input": "2024-10-25T17:39:31.569055Z",
     "iopub.status.busy": "2024-10-25T17:39:31.568687Z",
     "iopub.status.idle": "2024-10-25T17:39:31.574594Z",
     "shell.execute_reply": "2024-10-25T17:39:31.573216Z"
    },
    "papermill": {
     "duration": 0.015328,
     "end_time": "2024-10-25T17:39:31.577113",
     "exception": false,
     "start_time": "2024-10-25T17:39:31.561785",
     "status": "completed"
    },
    "tags": []
   },
   "outputs": [
    {
     "name": "stdout",
     "output_type": "stream",
     "text": [
      "3\n"
     ]
    }
   ],
   "source": [
    "test_value = 2.17\n",
    "\n",
    "rounded_value = math.ceil(test_value)\n",
    "print(rounded_value)"
   ]
  },
  {
   "cell_type": "markdown",
   "id": "6c8c91cc",
   "metadata": {
    "papermill": {
     "duration": 0.005426,
     "end_time": "2024-10-25T17:39:31.588304",
     "exception": false,
     "start_time": "2024-10-25T17:39:31.582878",
     "status": "completed"
    },
    "tags": []
   },
   "source": [
    "Use the next code cell to define the function `get_actual_cost()`.  You'll need to use the `math.ceil()` function to do this.\n",
    "\n",
    "When answering this question, note that it's completely valid to define a function that makes use of another function.  For instance, we can define a function `round_up_and_divide_by_three` that makes use of the `math.ceil` function:\n",
    "```\n",
    "def round_up_and_divide_by_three(num):\n",
    "    new_value = math.ceil(num)\n",
    "    final_value = new_value / 3\n",
    "    return final_value\n",
    "```"
   ]
  },
  {
   "cell_type": "code",
   "execution_count": 7,
   "id": "a62d7150",
   "metadata": {
    "execution": {
     "iopub.execute_input": "2024-10-25T17:39:31.601777Z",
     "iopub.status.busy": "2024-10-25T17:39:31.601348Z",
     "iopub.status.idle": "2024-10-25T17:39:31.610620Z",
     "shell.execute_reply": "2024-10-25T17:39:31.609663Z"
    },
    "papermill": {
     "duration": 0.018416,
     "end_time": "2024-10-25T17:39:31.612786",
     "exception": false,
     "start_time": "2024-10-25T17:39:31.594370",
     "status": "completed"
    },
    "tags": []
   },
   "outputs": [
    {
     "data": {
      "application/javascript": [
       "parent.postMessage({\"jupyterEvent\": \"custom.exercise_interaction\", \"data\": {\"outcomeType\": 2, \"failureMessage\": \"Expected return value of `30` given `sqft_walls=432`, `sqft_ceiling=144`, `sqft_per_gallon=400`, `cost_per_gallon=15`, but got `<learntools.core.constants.PlaceholderValue object at 0x7ed32c908af0>` instead.\", \"interactionType\": 1, \"questionType\": 2, \"questionId\": \"5_NoMoreFractions\", \"learnToolsVersion\": \"0.3.4\", \"valueTowardsCompletion\": 0.0, \"exceptionClass\": \"\", \"trace\": \"\"}}, \"*\")"
      ],
      "text/plain": [
       "<IPython.core.display.Javascript object>"
      ]
     },
     "metadata": {},
     "output_type": "display_data"
    },
    {
     "data": {
      "text/markdown": [
       "<span style=\"color:#cc3333\">Incorrect:</span> Expected return value of `30` given `sqft_walls=432`, `sqft_ceiling=144`, `sqft_per_gallon=400`, `cost_per_gallon=15`, but got `<learntools.core.constants.PlaceholderValue object at 0x7ed32c908af0>` instead."
      ],
      "text/plain": [
       "Incorrect: Expected return value of `30` given `sqft_walls=432`, `sqft_ceiling=144`, `sqft_per_gallon=400`, `cost_per_gallon=15`, but got `<learntools.core.constants.PlaceholderValue object at 0x7ed32c908af0>` instead."
      ]
     },
     "metadata": {},
     "output_type": "display_data"
    }
   ],
   "source": [
    "def get_actual_cost(sqft_walls, sqft_ceiling, sqft_per_gallon, cost_per_gallon):\n",
    "    cost = ____\n",
    "    return cost\n",
    "\n",
    "# Check your answer\n",
    "q5.check()"
   ]
  },
  {
   "cell_type": "code",
   "execution_count": 8,
   "id": "041f50a5",
   "metadata": {
    "execution": {
     "iopub.execute_input": "2024-10-25T17:39:31.626441Z",
     "iopub.status.busy": "2024-10-25T17:39:31.626063Z",
     "iopub.status.idle": "2024-10-25T17:39:31.630762Z",
     "shell.execute_reply": "2024-10-25T17:39:31.629435Z"
    },
    "papermill": {
     "duration": 0.014244,
     "end_time": "2024-10-25T17:39:31.633102",
     "exception": false,
     "start_time": "2024-10-25T17:39:31.618858",
     "status": "completed"
    },
    "tags": []
   },
   "outputs": [],
   "source": [
    "# Uncomment to see a hint\n",
    "#q5.hint()\n",
    "\n",
    "# Uncomment to view the solution\n",
    "#q5.solution()"
   ]
  },
  {
   "cell_type": "markdown",
   "id": "6f189d71",
   "metadata": {
    "papermill": {
     "duration": 0.00571,
     "end_time": "2024-10-25T17:39:31.644904",
     "exception": false,
     "start_time": "2024-10-25T17:39:31.639194",
     "status": "completed"
    },
    "tags": []
   },
   "source": [
    "Once your function is verified as correct, run the next code cell to calculate the updated cost of your project."
   ]
  },
  {
   "cell_type": "code",
   "execution_count": 9,
   "id": "50ed0639",
   "metadata": {
    "execution": {
     "iopub.execute_input": "2024-10-25T17:39:31.658492Z",
     "iopub.status.busy": "2024-10-25T17:39:31.658121Z",
     "iopub.status.idle": "2024-10-25T17:39:31.664728Z",
     "shell.execute_reply": "2024-10-25T17:39:31.663729Z"
    },
    "papermill": {
     "duration": 0.016176,
     "end_time": "2024-10-25T17:39:31.666910",
     "exception": false,
     "start_time": "2024-10-25T17:39:31.650734",
     "status": "completed"
    },
    "tags": []
   },
   "outputs": [
    {
     "data": {
      "text/markdown": [],
      "text/plain": [
       "<learntools.core.constants.PlaceholderValue at 0x7ed32c908af0>"
      ]
     },
     "execution_count": 9,
     "metadata": {},
     "output_type": "execute_result"
    }
   ],
   "source": [
    "get_actual_cost(432, 144, 400, 15) "
   ]
  },
  {
   "cell_type": "markdown",
   "id": "2635d141",
   "metadata": {
    "papermill": {
     "duration": 0.005652,
     "end_time": "2024-10-25T17:39:31.678593",
     "exception": false,
     "start_time": "2024-10-25T17:39:31.672941",
     "status": "completed"
    },
    "tags": []
   },
   "source": [
    "Say you're working with a slightly larger room.  Run the next code cell to calculate the cost of the project."
   ]
  },
  {
   "cell_type": "code",
   "execution_count": 10,
   "id": "ba76c2df",
   "metadata": {
    "execution": {
     "iopub.execute_input": "2024-10-25T17:39:31.692109Z",
     "iopub.status.busy": "2024-10-25T17:39:31.691704Z",
     "iopub.status.idle": "2024-10-25T17:39:31.698407Z",
     "shell.execute_reply": "2024-10-25T17:39:31.697455Z"
    },
    "papermill": {
     "duration": 0.016257,
     "end_time": "2024-10-25T17:39:31.700684",
     "exception": false,
     "start_time": "2024-10-25T17:39:31.684427",
     "status": "completed"
    },
    "tags": []
   },
   "outputs": [
    {
     "data": {
      "text/markdown": [],
      "text/plain": [
       "<learntools.core.constants.PlaceholderValue at 0x7ed32c908af0>"
      ]
     },
     "execution_count": 10,
     "metadata": {},
     "output_type": "execute_result"
    }
   ],
   "source": [
    "get_actual_cost(594, 288, 400, 15) "
   ]
  },
  {
   "cell_type": "markdown",
   "id": "d15be954",
   "metadata": {
    "papermill": {
     "duration": 0.005714,
     "end_time": "2024-10-25T17:39:31.712555",
     "exception": false,
     "start_time": "2024-10-25T17:39:31.706841",
     "status": "completed"
    },
    "tags": []
   },
   "source": [
    "# Keep going\n",
    "\n",
    "Continue to learn about **[data types](https://www.kaggle.com/alexisbcook/data-types)**."
   ]
  },
  {
   "cell_type": "markdown",
   "id": "cf46f1eb",
   "metadata": {
    "papermill": {
     "duration": 0.005906,
     "end_time": "2024-10-25T17:39:31.724912",
     "exception": false,
     "start_time": "2024-10-25T17:39:31.719006",
     "status": "completed"
    },
    "tags": []
   },
   "source": [
    "---\n",
    "\n",
    "\n",
    "\n",
    "\n",
    "*Have questions or comments? Visit the [course discussion forum](https://www.kaggle.com/learn/intro-to-programming/discussion) to chat with other learners.*"
   ]
  }
 ],
 "metadata": {
  "kaggle": {
   "accelerator": "none",
   "dataSources": [],
   "isGpuEnabled": false,
   "isInternetEnabled": false,
   "language": "python",
   "sourceType": "notebook"
  },
  "kernelspec": {
   "display_name": "Python 3",
   "language": "python",
   "name": "python3"
  },
  "language_info": {
   "codemirror_mode": {
    "name": "ipython",
    "version": 3
   },
   "file_extension": ".py",
   "mimetype": "text/x-python",
   "name": "python",
   "nbconvert_exporter": "python",
   "pygments_lexer": "ipython3",
   "version": "3.10.14"
  },
  "papermill": {
   "default_parameters": {},
   "duration": 4.651393,
   "end_time": "2024-10-25T17:39:32.253218",
   "environment_variables": {},
   "exception": null,
   "input_path": "__notebook__.ipynb",
   "output_path": "__notebook__.ipynb",
   "parameters": {},
   "start_time": "2024-10-25T17:39:27.601825",
   "version": "2.6.0"
  }
 },
 "nbformat": 4,
 "nbformat_minor": 5
}
